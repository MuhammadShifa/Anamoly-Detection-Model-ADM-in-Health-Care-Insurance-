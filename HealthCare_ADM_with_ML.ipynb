{
  "nbformat": 4,
  "nbformat_minor": 0,
  "metadata": {
    "colab": {
      "name": "HealthCare-ADM-with ML.ipynb",
      "provenance": [],
      "collapsed_sections": [],
      "authorship_tag": "ABX9TyN+82YZyxQxMT2yGnBNGvfC",
      "include_colab_link": true
    },
    "kernelspec": {
      "name": "python3",
      "display_name": "Python 3"
    }
  },
  "cells": [
    {
      "cell_type": "markdown",
      "metadata": {
        "id": "view-in-github",
        "colab_type": "text"
      },
      "source": [
        "<a href=\"https://colab.research.google.com/github/MuhammadShifa/Anamoly-Detection-Model-ADM-in-Health-Care-Insurance-/blob/main/HealthCare_ADM_with_ML.ipynb\" target=\"_parent\"><img src=\"https://colab.research.google.com/assets/colab-badge.svg\" alt=\"Open In Colab\"/></a>"
      ]
    },
    {
      "cell_type": "code",
      "metadata": {
        "colab": {
          "base_uri": "https://localhost:8080/"
        },
        "id": "RCi99CTjisOj",
        "outputId": "d8c478b6-f96c-44b8-f2cc-6fa7d57500ec"
      },
      "source": [
        "# To access the drive data\r\n",
        "from google.colab import drive\r\n",
        "drive.mount('/content/drive')"
      ],
      "execution_count": null,
      "outputs": [
        {
          "output_type": "stream",
          "text": [
            "Drive already mounted at /content/drive; to attempt to forcibly remount, call drive.mount(\"/content/drive\", force_remount=True).\n"
          ],
          "name": "stdout"
        }
      ]
    },
    {
      "cell_type": "markdown",
      "metadata": {
        "id": "CAN-J3TH0lWK"
      },
      "source": [
        "#### Load Dataset"
      ]
    },
    {
      "cell_type": "code",
      "metadata": {
        "colab": {
          "base_uri": "https://localhost:8080/",
          "height": 379
        },
        "id": "O2c_o6lt0kWh",
        "outputId": "8fa64638-1511-40b2-c39e-43caf8473cd0"
      },
      "source": [
        "# IMPORTING PACKAGES\r\n",
        "\r\n",
        "import pandas as pd # data processing\r\n",
        "import numpy as np # working with arrays\r\n",
        "import matplotlib.pyplot as plt # visualization\r\n",
        "from termcolor import colored as cl # text customization\r\n",
        "import itertools # advanced tools\r\n",
        "\r\n",
        "from sklearn.preprocessing import StandardScaler # data normalization\r\n",
        "from sklearn.model_selection import train_test_split # data split\r\n",
        "from sklearn.tree import DecisionTreeClassifier # Decision tree algorithm\r\n",
        "from sklearn.neighbors import KNeighborsClassifier # KNN algorithm\r\n",
        "from sklearn.linear_model import LogisticRegression # Logistic regression algorithm\r\n",
        "from sklearn.ensemble import RandomForestClassifier # Random forest tree algorithm\r\n",
        "from xgboost import XGBClassifier # XGBoost algorithm\r\n",
        "\r\n",
        "from sklearn.metrics import confusion_matrix # evaluation metric\r\n",
        "from sklearn.metrics import accuracy_score # evaluation metric\r\n",
        "from sklearn.metrics import f1_score # evaluation metric\r\n",
        "\r\n",
        "# IMPORTING DATA\r\n",
        "\r\n",
        "df = pd.read_csv('/content/drive/My Drive/ADM Datasets/train_data.csv')\r\n",
        "df.head(10)"
      ],
      "execution_count": null,
      "outputs": [
        {
          "output_type": "execute_result",
          "data": {
            "text/html": [
              "<div>\n",
              "<style scoped>\n",
              "    .dataframe tbody tr th:only-of-type {\n",
              "        vertical-align: middle;\n",
              "    }\n",
              "\n",
              "    .dataframe tbody tr th {\n",
              "        vertical-align: top;\n",
              "    }\n",
              "\n",
              "    .dataframe thead th {\n",
              "        text-align: right;\n",
              "    }\n",
              "</style>\n",
              "<table border=\"1\" class=\"dataframe\">\n",
              "  <thead>\n",
              "    <tr style=\"text-align: right;\">\n",
              "      <th></th>\n",
              "      <th>Provider</th>\n",
              "      <th>PotentialFraud</th>\n",
              "      <th>InscClaimAmtReimbursed</th>\n",
              "      <th>DeductibleAmtPaid</th>\n",
              "      <th>AdmitDays</th>\n",
              "      <th>Gender</th>\n",
              "      <th>Race</th>\n",
              "      <th>RenalDiseaseIndicator</th>\n",
              "      <th>NoOfMonths_PartACov</th>\n",
              "      <th>NoOfMonths_PartBCov</th>\n",
              "      <th>ChronicCond_Alzheimer</th>\n",
              "      <th>ChronicCond_Heartfailure</th>\n",
              "      <th>ChronicCond_KidneyDisease</th>\n",
              "      <th>ChronicCond_Cancer</th>\n",
              "      <th>ChronicCond_ObstrPulmonary</th>\n",
              "      <th>ChronicCond_Depression</th>\n",
              "      <th>ChronicCond_Diabetes</th>\n",
              "      <th>ChronicCond_IschemicHeart</th>\n",
              "      <th>ChronicCond_Osteoporasis</th>\n",
              "      <th>ChronicCond_rheumatoidarthritis</th>\n",
              "      <th>ChronicCond_stroke</th>\n",
              "      <th>IPAnnualReimbursementAmt</th>\n",
              "      <th>IPAnnualDeductibleAmt</th>\n",
              "      <th>OPAnnualReimbursementAmt</th>\n",
              "      <th>OPAnnualDeductibleAmt</th>\n",
              "      <th>Age</th>\n",
              "      <th>IsDead</th>\n",
              "    </tr>\n",
              "  </thead>\n",
              "  <tbody>\n",
              "    <tr>\n",
              "      <th>0</th>\n",
              "      <td>PRV51001</td>\n",
              "      <td>0</td>\n",
              "      <td>20</td>\n",
              "      <td>0.0</td>\n",
              "      <td>7.0</td>\n",
              "      <td>1</td>\n",
              "      <td>1</td>\n",
              "      <td>1</td>\n",
              "      <td>12</td>\n",
              "      <td>12</td>\n",
              "      <td>1</td>\n",
              "      <td>1</td>\n",
              "      <td>1</td>\n",
              "      <td>1</td>\n",
              "      <td>2</td>\n",
              "      <td>2</td>\n",
              "      <td>1</td>\n",
              "      <td>1</td>\n",
              "      <td>2</td>\n",
              "      <td>2</td>\n",
              "      <td>2</td>\n",
              "      <td>0</td>\n",
              "      <td>0</td>\n",
              "      <td>300</td>\n",
              "      <td>110</td>\n",
              "      <td>80.0</td>\n",
              "      <td>0.0</td>\n",
              "    </tr>\n",
              "    <tr>\n",
              "      <th>1</th>\n",
              "      <td>PRV51001</td>\n",
              "      <td>0</td>\n",
              "      <td>700</td>\n",
              "      <td>0.0</td>\n",
              "      <td>7.0</td>\n",
              "      <td>1</td>\n",
              "      <td>1</td>\n",
              "      <td>0</td>\n",
              "      <td>12</td>\n",
              "      <td>12</td>\n",
              "      <td>1</td>\n",
              "      <td>2</td>\n",
              "      <td>2</td>\n",
              "      <td>2</td>\n",
              "      <td>2</td>\n",
              "      <td>2</td>\n",
              "      <td>1</td>\n",
              "      <td>1</td>\n",
              "      <td>1</td>\n",
              "      <td>2</td>\n",
              "      <td>1</td>\n",
              "      <td>0</td>\n",
              "      <td>0</td>\n",
              "      <td>720</td>\n",
              "      <td>10</td>\n",
              "      <td>67.0</td>\n",
              "      <td>0.0</td>\n",
              "    </tr>\n",
              "    <tr>\n",
              "      <th>2</th>\n",
              "      <td>PRV51001</td>\n",
              "      <td>0</td>\n",
              "      <td>900</td>\n",
              "      <td>0.0</td>\n",
              "      <td>7.0</td>\n",
              "      <td>2</td>\n",
              "      <td>1</td>\n",
              "      <td>0</td>\n",
              "      <td>12</td>\n",
              "      <td>12</td>\n",
              "      <td>2</td>\n",
              "      <td>2</td>\n",
              "      <td>1</td>\n",
              "      <td>2</td>\n",
              "      <td>2</td>\n",
              "      <td>2</td>\n",
              "      <td>1</td>\n",
              "      <td>1</td>\n",
              "      <td>2</td>\n",
              "      <td>1</td>\n",
              "      <td>2</td>\n",
              "      <td>0</td>\n",
              "      <td>0</td>\n",
              "      <td>1380</td>\n",
              "      <td>370</td>\n",
              "      <td>76.0</td>\n",
              "      <td>0.0</td>\n",
              "    </tr>\n",
              "    <tr>\n",
              "      <th>3</th>\n",
              "      <td>PRV51001</td>\n",
              "      <td>0</td>\n",
              "      <td>500</td>\n",
              "      <td>0.0</td>\n",
              "      <td>7.0</td>\n",
              "      <td>1</td>\n",
              "      <td>1</td>\n",
              "      <td>0</td>\n",
              "      <td>12</td>\n",
              "      <td>12</td>\n",
              "      <td>1</td>\n",
              "      <td>1</td>\n",
              "      <td>1</td>\n",
              "      <td>1</td>\n",
              "      <td>1</td>\n",
              "      <td>1</td>\n",
              "      <td>1</td>\n",
              "      <td>1</td>\n",
              "      <td>2</td>\n",
              "      <td>2</td>\n",
              "      <td>2</td>\n",
              "      <td>2020</td>\n",
              "      <td>1068</td>\n",
              "      <td>6700</td>\n",
              "      <td>2700</td>\n",
              "      <td>74.0</td>\n",
              "      <td>0.0</td>\n",
              "    </tr>\n",
              "    <tr>\n",
              "      <th>4</th>\n",
              "      <td>PRV51001</td>\n",
              "      <td>0</td>\n",
              "      <td>36000</td>\n",
              "      <td>1068.0</td>\n",
              "      <td>5.0</td>\n",
              "      <td>1</td>\n",
              "      <td>1</td>\n",
              "      <td>0</td>\n",
              "      <td>12</td>\n",
              "      <td>12</td>\n",
              "      <td>2</td>\n",
              "      <td>1</td>\n",
              "      <td>1</td>\n",
              "      <td>2</td>\n",
              "      <td>2</td>\n",
              "      <td>1</td>\n",
              "      <td>1</td>\n",
              "      <td>1</td>\n",
              "      <td>2</td>\n",
              "      <td>2</td>\n",
              "      <td>1</td>\n",
              "      <td>36000</td>\n",
              "      <td>1068</td>\n",
              "      <td>3520</td>\n",
              "      <td>140</td>\n",
              "      <td>69.0</td>\n",
              "      <td>0.0</td>\n",
              "    </tr>\n",
              "    <tr>\n",
              "      <th>5</th>\n",
              "      <td>PRV51001</td>\n",
              "      <td>0</td>\n",
              "      <td>12000</td>\n",
              "      <td>1068.0</td>\n",
              "      <td>3.0</td>\n",
              "      <td>1</td>\n",
              "      <td>1</td>\n",
              "      <td>0</td>\n",
              "      <td>12</td>\n",
              "      <td>12</td>\n",
              "      <td>2</td>\n",
              "      <td>2</td>\n",
              "      <td>1</td>\n",
              "      <td>2</td>\n",
              "      <td>2</td>\n",
              "      <td>2</td>\n",
              "      <td>2</td>\n",
              "      <td>2</td>\n",
              "      <td>2</td>\n",
              "      <td>2</td>\n",
              "      <td>2</td>\n",
              "      <td>95000</td>\n",
              "      <td>2136</td>\n",
              "      <td>2270</td>\n",
              "      <td>900</td>\n",
              "      <td>72.0</td>\n",
              "      <td>0.0</td>\n",
              "    </tr>\n",
              "    <tr>\n",
              "      <th>6</th>\n",
              "      <td>PRV51001</td>\n",
              "      <td>0</td>\n",
              "      <td>70</td>\n",
              "      <td>0.0</td>\n",
              "      <td>7.0</td>\n",
              "      <td>1</td>\n",
              "      <td>1</td>\n",
              "      <td>0</td>\n",
              "      <td>12</td>\n",
              "      <td>12</td>\n",
              "      <td>1</td>\n",
              "      <td>1</td>\n",
              "      <td>2</td>\n",
              "      <td>2</td>\n",
              "      <td>2</td>\n",
              "      <td>2</td>\n",
              "      <td>2</td>\n",
              "      <td>1</td>\n",
              "      <td>1</td>\n",
              "      <td>2</td>\n",
              "      <td>2</td>\n",
              "      <td>5000</td>\n",
              "      <td>1068</td>\n",
              "      <td>370</td>\n",
              "      <td>70</td>\n",
              "      <td>91.0</td>\n",
              "      <td>0.0</td>\n",
              "    </tr>\n",
              "    <tr>\n",
              "      <th>7</th>\n",
              "      <td>PRV51001</td>\n",
              "      <td>0</td>\n",
              "      <td>100</td>\n",
              "      <td>0.0</td>\n",
              "      <td>7.0</td>\n",
              "      <td>2</td>\n",
              "      <td>2</td>\n",
              "      <td>0</td>\n",
              "      <td>12</td>\n",
              "      <td>12</td>\n",
              "      <td>2</td>\n",
              "      <td>1</td>\n",
              "      <td>1</td>\n",
              "      <td>2</td>\n",
              "      <td>2</td>\n",
              "      <td>2</td>\n",
              "      <td>2</td>\n",
              "      <td>2</td>\n",
              "      <td>1</td>\n",
              "      <td>2</td>\n",
              "      <td>2</td>\n",
              "      <td>0</td>\n",
              "      <td>0</td>\n",
              "      <td>320</td>\n",
              "      <td>80</td>\n",
              "      <td>90.0</td>\n",
              "      <td>0.0</td>\n",
              "    </tr>\n",
              "    <tr>\n",
              "      <th>8</th>\n",
              "      <td>PRV51001</td>\n",
              "      <td>0</td>\n",
              "      <td>300</td>\n",
              "      <td>0.0</td>\n",
              "      <td>7.0</td>\n",
              "      <td>2</td>\n",
              "      <td>2</td>\n",
              "      <td>1</td>\n",
              "      <td>12</td>\n",
              "      <td>12</td>\n",
              "      <td>1</td>\n",
              "      <td>1</td>\n",
              "      <td>1</td>\n",
              "      <td>2</td>\n",
              "      <td>1</td>\n",
              "      <td>2</td>\n",
              "      <td>1</td>\n",
              "      <td>1</td>\n",
              "      <td>2</td>\n",
              "      <td>2</td>\n",
              "      <td>2</td>\n",
              "      <td>0</td>\n",
              "      <td>0</td>\n",
              "      <td>630</td>\n",
              "      <td>130</td>\n",
              "      <td>57.0</td>\n",
              "      <td>0.0</td>\n",
              "    </tr>\n",
              "    <tr>\n",
              "      <th>9</th>\n",
              "      <td>PRV51001</td>\n",
              "      <td>0</td>\n",
              "      <td>60</td>\n",
              "      <td>0.0</td>\n",
              "      <td>7.0</td>\n",
              "      <td>2</td>\n",
              "      <td>2</td>\n",
              "      <td>1</td>\n",
              "      <td>12</td>\n",
              "      <td>12</td>\n",
              "      <td>2</td>\n",
              "      <td>1</td>\n",
              "      <td>1</td>\n",
              "      <td>2</td>\n",
              "      <td>1</td>\n",
              "      <td>1</td>\n",
              "      <td>1</td>\n",
              "      <td>1</td>\n",
              "      <td>2</td>\n",
              "      <td>2</td>\n",
              "      <td>2</td>\n",
              "      <td>0</td>\n",
              "      <td>0</td>\n",
              "      <td>1590</td>\n",
              "      <td>1070</td>\n",
              "      <td>98.0</td>\n",
              "      <td>0.0</td>\n",
              "    </tr>\n",
              "  </tbody>\n",
              "</table>\n",
              "</div>"
            ],
            "text/plain": [
              "   Provider  PotentialFraud  ...   Age  IsDead\n",
              "0  PRV51001               0  ...  80.0     0.0\n",
              "1  PRV51001               0  ...  67.0     0.0\n",
              "2  PRV51001               0  ...  76.0     0.0\n",
              "3  PRV51001               0  ...  74.0     0.0\n",
              "4  PRV51001               0  ...  69.0     0.0\n",
              "5  PRV51001               0  ...  72.0     0.0\n",
              "6  PRV51001               0  ...  91.0     0.0\n",
              "7  PRV51001               0  ...  90.0     0.0\n",
              "8  PRV51001               0  ...  57.0     0.0\n",
              "9  PRV51001               0  ...  98.0     0.0\n",
              "\n",
              "[10 rows x 27 columns]"
            ]
          },
          "metadata": {
            "tags": []
          },
          "execution_count": 3
        }
      ]
    },
    {
      "cell_type": "markdown",
      "metadata": {
        "id": "3bz4Ntjh1pay"
      },
      "source": [
        "#### Data Cleaning"
      ]
    },
    {
      "cell_type": "code",
      "metadata": {
        "colab": {
          "base_uri": "https://localhost:8080/"
        },
        "id": "vUJG7rlH1s-P",
        "outputId": "585591d3-ad56-4797-8ba0-ac1e0fdbe584"
      },
      "source": [
        "# print data information i,e no of columns and rows etc\r\n",
        "data_info = df.info()\r\n",
        "print(data_info)"
      ],
      "execution_count": null,
      "outputs": [
        {
          "output_type": "stream",
          "text": [
            "<class 'pandas.core.frame.DataFrame'>\n",
            "RangeIndex: 558211 entries, 0 to 558210\n",
            "Data columns (total 27 columns):\n",
            " #   Column                           Non-Null Count   Dtype  \n",
            "---  ------                           --------------   -----  \n",
            " 0   Provider                         558211 non-null  object \n",
            " 1   PotentialFraud                   558211 non-null  int64  \n",
            " 2   InscClaimAmtReimbursed           558211 non-null  int64  \n",
            " 3   DeductibleAmtPaid                558211 non-null  float64\n",
            " 4   AdmitDays                        558211 non-null  float64\n",
            " 5   Gender                           558211 non-null  int64  \n",
            " 6   Race                             558211 non-null  int64  \n",
            " 7   RenalDiseaseIndicator            558211 non-null  int64  \n",
            " 8   NoOfMonths_PartACov              558211 non-null  int64  \n",
            " 9   NoOfMonths_PartBCov              558211 non-null  int64  \n",
            " 10  ChronicCond_Alzheimer            558211 non-null  int64  \n",
            " 11  ChronicCond_Heartfailure         558211 non-null  int64  \n",
            " 12  ChronicCond_KidneyDisease        558211 non-null  int64  \n",
            " 13  ChronicCond_Cancer               558211 non-null  int64  \n",
            " 14  ChronicCond_ObstrPulmonary       558211 non-null  int64  \n",
            " 15  ChronicCond_Depression           558211 non-null  int64  \n",
            " 16  ChronicCond_Diabetes             558211 non-null  int64  \n",
            " 17  ChronicCond_IschemicHeart        558211 non-null  int64  \n",
            " 18  ChronicCond_Osteoporasis         558211 non-null  int64  \n",
            " 19  ChronicCond_rheumatoidarthritis  558211 non-null  int64  \n",
            " 20  ChronicCond_stroke               558211 non-null  int64  \n",
            " 21  IPAnnualReimbursementAmt         558211 non-null  int64  \n",
            " 22  IPAnnualDeductibleAmt            558211 non-null  int64  \n",
            " 23  OPAnnualReimbursementAmt         558211 non-null  int64  \n",
            " 24  OPAnnualDeductibleAmt            558211 non-null  int64  \n",
            " 25  Age                              558211 non-null  float64\n",
            " 26  IsDead                           558211 non-null  float64\n",
            "dtypes: float64(4), int64(22), object(1)\n",
            "memory usage: 115.0+ MB\n",
            "None\n"
          ],
          "name": "stdout"
        }
      ]
    },
    {
      "cell_type": "code",
      "metadata": {
        "colab": {
          "base_uri": "https://localhost:8080/"
        },
        "id": "qixpk95L13Fh",
        "outputId": "8fbd27bf-5798-4b2f-9e10-a5355e61b241"
      },
      "source": [
        "# Check is there any null value\r\n",
        "df.isnull().sum()"
      ],
      "execution_count": null,
      "outputs": [
        {
          "output_type": "execute_result",
          "data": {
            "text/plain": [
              "Provider                           0\n",
              "PotentialFraud                     0\n",
              "InscClaimAmtReimbursed             0\n",
              "DeductibleAmtPaid                  0\n",
              "AdmitDays                          0\n",
              "Gender                             0\n",
              "Race                               0\n",
              "RenalDiseaseIndicator              0\n",
              "NoOfMonths_PartACov                0\n",
              "NoOfMonths_PartBCov                0\n",
              "ChronicCond_Alzheimer              0\n",
              "ChronicCond_Heartfailure           0\n",
              "ChronicCond_KidneyDisease          0\n",
              "ChronicCond_Cancer                 0\n",
              "ChronicCond_ObstrPulmonary         0\n",
              "ChronicCond_Depression             0\n",
              "ChronicCond_Diabetes               0\n",
              "ChronicCond_IschemicHeart          0\n",
              "ChronicCond_Osteoporasis           0\n",
              "ChronicCond_rheumatoidarthritis    0\n",
              "ChronicCond_stroke                 0\n",
              "IPAnnualReimbursementAmt           0\n",
              "IPAnnualDeductibleAmt              0\n",
              "OPAnnualReimbursementAmt           0\n",
              "OPAnnualDeductibleAmt              0\n",
              "Age                                0\n",
              "IsDead                             0\n",
              "dtype: int64"
            ]
          },
          "metadata": {
            "tags": []
          },
          "execution_count": 5
        }
      ]
    },
    {
      "cell_type": "code",
      "metadata": {
        "colab": {
          "base_uri": "https://localhost:8080/"
        },
        "id": "SmJ0kGC21-PR",
        "outputId": "41ecb788-7305-4eba-f14e-c8c4a0fb8f39"
      },
      "source": [
        "# Checking is there any duplicate rows\r\n",
        "print(\"The shape of dataframe is: \",df.shape)\r\n",
        "df = df.drop_duplicates(subset = None, )\r\n",
        "print(\"The shape of dataframe after duplicate row: \", df.shape)"
      ],
      "execution_count": null,
      "outputs": [
        {
          "output_type": "stream",
          "text": [
            "The shape of dataframe is:  (558211, 27)\n",
            "The shape of dataframe after duplicate row:  (534843, 27)\n"
          ],
          "name": "stdout"
        }
      ]
    },
    {
      "cell_type": "markdown",
      "metadata": {
        "id": "aZtpzkGF05Ms"
      },
      "source": [
        "#### Exploratory Data Analysis (EDA)\r\n",
        "\r\n",
        "#### Dependent Variable\r\n",
        "\r\n",
        "Exploratory data analysis was conducted started with the dependent variable, PotentialFraud in our case. There were 201403 frauds and 333440 non-frauds. 37.65% of the data were frauds while 62.34% were non-fraudulent claims. "
      ]
    },
    {
      "cell_type": "code",
      "metadata": {
        "colab": {
          "base_uri": "https://localhost:8080/"
        },
        "id": "JoZoggG_04oR",
        "outputId": "08161d12-b633-48ea-9fff-e4455242e5e6"
      },
      "source": [
        "# Count the occurence of Fraud/non-fraud \r\n",
        "occ = df['PotentialFraud'].value_counts()\r\n",
        "print(occ)\r\n",
        "\r\n",
        "# Length of total row/ observation\r\n",
        "total_rows =len(df.index)\r\n",
        "print(total_rows)"
      ],
      "execution_count": null,
      "outputs": [
        {
          "output_type": "stream",
          "text": [
            "0    333440\n",
            "1    201403\n",
            "Name: PotentialFraud, dtype: int64\n",
            "534843\n"
          ],
          "name": "stdout"
        }
      ]
    },
    {
      "cell_type": "code",
      "metadata": {
        "colab": {
          "base_uri": "https://localhost:8080/"
        },
        "id": "sYubbtSo2ccs",
        "outputId": "0e4694ff-1c86-4dfe-e880-1d7689e724eb"
      },
      "source": [
        "occ_0, occ_1 = occ\r\n",
        "print(\"The occ of 0 is: \",occ_0)\r\n",
        "print(\"The occ of 1 is: \",occ_1)\r\n",
        "\r\n",
        "# Lets check the percentage of 0 and 1 in our dataset\r\n",
        "\r\n",
        "percent_0 = (occ_0/total_rows) * 100\r\n",
        "percent_1 = (occ_1/total_rows) * 100\r\n",
        "\r\n",
        "print(\"The Percentage of 0 in dataset:\",percent_0)\r\n",
        "print(\"The Percentage of 1 in dataset\", percent_1)"
      ],
      "execution_count": null,
      "outputs": [
        {
          "output_type": "stream",
          "text": [
            "The occ of 0 is:  333440\n",
            "The occ of 1 is:  201403\n",
            "The Percentage of 0 in dataset: 62.34352884865279\n",
            "The Percentage of 1 in dataset 37.65647115134721\n"
          ],
          "name": "stdout"
        }
      ]
    },
    {
      "cell_type": "code",
      "metadata": {
        "colab": {
          "base_uri": "https://localhost:8080/"
        },
        "id": "qfS_mruP2ndP",
        "outputId": "5633754c-45b7-4a5c-ac88-561d6a2bb4a3"
      },
      "source": [
        "# For checking Imbalanced classification let's check the ratio of fraud and non-fraud\r\n",
        "ratio_cases = occ/(len(df.index))\r\n",
        "print(f'Ratio of non-farudulent cases: {ratio_cases[0]} \\nRatio of fraudulent case: {ratio_cases[1]}')"
      ],
      "execution_count": null,
      "outputs": [
        {
          "output_type": "stream",
          "text": [
            "Ratio of non-farudulent cases: 0.6234352884865278 \n",
            "Ratio of fraudulent case: 0.37656471151347215\n"
          ],
          "name": "stdout"
        }
      ]
    },
    {
      "cell_type": "markdown",
      "metadata": {
        "id": "w1V4ERfD2wJK"
      },
      "source": [
        "The above result of fradulent and non-fraudulent ratio shows that we an consider it as a balanced classification upto some extent. As we have not a lot imabalanced classifcation\r\n",
        "\r\n",
        "#### Data Visualization"
      ]
    },
    {
      "cell_type": "code",
      "metadata": {
        "colab": {
          "base_uri": "https://localhost:8080/",
          "height": 337
        },
        "id": "ytW42Un32vRI",
        "outputId": "fe67a660-15b6-47f0-ee4e-7a44e19735c6"
      },
      "source": [
        "# visualize the target variable i,e PotentialFraud here\r\n",
        "import seaborn as sns\r\n",
        "import matplotlib.pyplot as plt\r\n",
        "\r\n",
        "g = sns.countplot(df['PotentialFraud'])\r\n",
        "g.set_xticklabels(['Not Fraud','Fraud'])\r\n",
        "plt.show()"
      ],
      "execution_count": null,
      "outputs": [
        {
          "output_type": "stream",
          "text": [
            "/usr/local/lib/python3.6/dist-packages/seaborn/_decorators.py:43: FutureWarning: Pass the following variable as a keyword arg: x. From version 0.12, the only valid positional argument will be `data`, and passing other arguments without an explicit keyword will result in an error or misinterpretation.\n",
            "  FutureWarning\n"
          ],
          "name": "stderr"
        },
        {
          "output_type": "display_data",
          "data": {
            "image/png": "[encoded data removed]",
            "text/plain": [
              "<Figure size 432x288 with 1 Axes>"
            ]
          },
          "metadata": {
            "tags": [],
            "needs_background": "light"
          }
        }
      ]
    },
    {
      "cell_type": "markdown",
      "metadata": {
        "id": "VyppVmLQ3Gk4"
      },
      "source": [
        "#### Split the data"
      ]
    },
    {
      "cell_type": "code",
      "metadata": {
        "id": "mH8YUMHB3A4Q"
      },
      "source": [
        "X = df.drop(['Provider','PotentialFraud'], axis = 1).values\r\n",
        "y = df['PotentialFraud'].values\r\n",
        "\r\n",
        "# Split the data in train test set\r\n",
        "X_train, X_test, y_train, y_test = train_test_split(X, y, test_size = 0.25, random_state = 0)"
      ],
      "execution_count": null,
      "outputs": []
    },
    {
      "cell_type": "markdown",
      "metadata": {
        "id": "QmT8U5tV56yR"
      },
      "source": [
        "#### Machine Learning Models\r\n",
        "1 Decision Tree\r\n",
        "\r\n",
        "2 K-Nearest Neighbors\r\n",
        "\r\n",
        "3 Logistic Regression\r\n",
        "\r\n",
        "4 Random Forest Tree\r\n",
        "\r\n",
        "5 XGBoost\r\n"
      ]
    },
    {
      "cell_type": "code",
      "metadata": {
        "id": "ZUudj59F5ywe"
      },
      "source": [
        "# MODELING\r\n",
        "\r\n",
        "# 1. Decision Tree\r\n",
        "\r\n",
        "tree_model = DecisionTreeClassifier(max_depth = 4, criterion = 'entropy')\r\n",
        "tree_model.fit(X_train, y_train)\r\n",
        "tree_yhat = tree_model.predict(X_test)\r\n",
        "\r\n",
        "# 2. K-Nearest Neighbors\r\n",
        "\r\n",
        "n = 5\r\n",
        "\r\n",
        "knn = KNeighborsClassifier(n_neighbors = n)\r\n",
        "knn.fit(X_train, y_train)\r\n",
        "knn_yhat = knn.predict(X_test)\r\n",
        "\r\n",
        "# 3. Logistic Regression\r\n",
        "\r\n",
        "lr = LogisticRegression()\r\n",
        "lr.fit(X_train, y_train)\r\n",
        "lr_yhat = lr.predict(X_test)\r\n",
        "\r\n",
        "# 4. Random Forest Tree\r\n",
        "\r\n",
        "rf = RandomForestClassifier(max_depth = 4)\r\n",
        "rf.fit(X_train, y_train)\r\n",
        "rf_yhat = rf.predict(X_test)\r\n",
        "\r\n",
        "# 5. XGBoost\r\n",
        "\r\n",
        "xgb = XGBClassifier(max_depth = 4)\r\n",
        "xgb.fit(X_train, y_train)\r\n",
        "xgb_yhat = xgb.predict(X_test)\r\n"
      ],
      "execution_count": null,
      "outputs": []
    },
    {
      "cell_type": "markdown",
      "metadata": {
        "id": "mFKpIoua6x9k"
      },
      "source": [
        "#### Evaluation of Accuracy and F1 Score"
      ]
    },
    {
      "cell_type": "code",
      "metadata": {
        "colab": {
          "base_uri": "https://localhost:8080/"
        },
        "id": "i5Lb_qys3Agg",
        "outputId": "33ad2168-9f61-475d-af93-04578cfdc8ac"
      },
      "source": [
        "# EVALUATION\r\n",
        "\r\n",
        "# 1. Accuracy score\r\n",
        "\r\n",
        "print(cl('ACCURACY SCORE', attrs = ['bold']))\r\n",
        "print(cl('------------------------------------------------------------------------', attrs = ['bold']))\r\n",
        "print(cl('Accuracy score of the Decision Tree model is {}'.format(accuracy_score(y_test, tree_yhat)), attrs = ['bold']))\r\n",
        "print(cl('------------------------------------------------------------------------', attrs = ['bold']))\r\n",
        "print(cl('Accuracy score of the KNN model is {}'.format(accuracy_score(y_test, knn_yhat)), attrs = ['bold'], color = 'green'))\r\n",
        "print(cl('------------------------------------------------------------------------', attrs = ['bold']))\r\n",
        "print(cl('Accuracy score of the Logistic Regression model is {}'.format(accuracy_score(y_test, lr_yhat)), attrs = ['bold'], color = 'red'))\r\n",
        "print(cl('------------------------------------------------------------------------', attrs = ['bold']))\r\n",
        "print(cl('Accuracy score of the Random Forest Tree model is {}'.format(accuracy_score(y_test, rf_yhat)), attrs = ['bold']))\r\n",
        "print(cl('------------------------------------------------------------------------', attrs = ['bold']))\r\n",
        "print(cl('Accuracy score of the XGBoost model is {}'.format(accuracy_score(y_test, xgb_yhat)), attrs = ['bold']))\r\n",
        "print(cl('------------------------------------------------------------------------', attrs = ['bold']))\r\n",
        "\r\n",
        "# 2. F1 score\r\n",
        "\r\n",
        "print(cl('F1 SCORE', attrs = ['bold']))\r\n",
        "print(cl('------------------------------------------------------------------------', attrs = ['bold']))\r\n",
        "print(cl('F1 score of the Decision Tree model is {}'.format(f1_score(y_test, tree_yhat)), attrs = ['bold']))\r\n",
        "print(cl('------------------------------------------------------------------------', attrs = ['bold']))\r\n",
        "print(cl('F1 score of the KNN model is {}'.format(f1_score(y_test, knn_yhat)), attrs = ['bold'], color = 'green'))\r\n",
        "print(cl('------------------------------------------------------------------------', attrs = ['bold']))\r\n",
        "print(cl('F1 score of the Logistic Regression model is {}'.format(f1_score(y_test, lr_yhat)), attrs = ['bold'], color = 'red'))\r\n",
        "print(cl('------------------------------------------------------------------------', attrs = ['bold']))\r\n",
        "print(cl('F1 score of the Random Forest Tree model is {}'.format(f1_score(y_test, rf_yhat)), attrs = ['bold']))\r\n",
        "print(cl('------------------------------------------------------------------------', attrs = ['bold']))\r\n",
        "print(cl('F1 score of the XGBoost model is {}'.format(f1_score(y_test, xgb_yhat)), attrs = ['bold']))\r\n",
        "print(cl('------------------------------------------------------------------------', attrs = ['bold']))"
      ],
      "execution_count": null,
      "outputs": [
        {
          "output_type": "stream",
          "text": [
            "\u001b[1mACCURACY SCORE\u001b[0m\n",
            "\u001b[1m------------------------------------------------------------------------\u001b[0m\n",
            "\u001b[1mAccuracy score of the Decision Tree model is 0.6347420930215165\u001b[0m\n",
            "\u001b[1m------------------------------------------------------------------------\u001b[0m\n",
            "\u001b[1m\u001b[32mAccuracy score of the KNN model is 0.6030319121089514\u001b[0m\n",
            "\u001b[1m------------------------------------------------------------------------\u001b[0m\n",
            "\u001b[1m\u001b[31mAccuracy score of the Logistic Regression model is 0.6345999955127103\u001b[0m\n",
            "\u001b[1m------------------------------------------------------------------------\u001b[0m\n",
            "\u001b[1mAccuracy score of the Random Forest Tree model is 0.6346897413077458\u001b[0m\n",
            "\u001b[1m------------------------------------------------------------------------\u001b[0m\n",
            "\u001b[1mAccuracy score of the XGBoost model is 0.6353703135867654\u001b[0m\n",
            "\u001b[1m------------------------------------------------------------------------\u001b[0m\n",
            "\u001b[1mF1 SCORE\u001b[0m\n",
            "\u001b[1m------------------------------------------------------------------------\u001b[0m\n",
            "\u001b[1mF1 score of the Decision Tree model is 0.1920627305662625\u001b[0m\n",
            "\u001b[1m------------------------------------------------------------------------\u001b[0m\n",
            "\u001b[1m\u001b[32mF1 score of the KNN model is 0.40982020747856834\u001b[0m\n",
            "\u001b[1m------------------------------------------------------------------------\u001b[0m\n",
            "\u001b[1m\u001b[31mF1 score of the Logistic Regression model is 0.18878262602111973\u001b[0m\n",
            "\u001b[1m------------------------------------------------------------------------\u001b[0m\n",
            "\u001b[1mF1 score of the Random Forest Tree model is 0.18946634806849863\u001b[0m\n",
            "\u001b[1m------------------------------------------------------------------------\u001b[0m\n",
            "\u001b[1mF1 score of the XGBoost model is 0.19467798681885004\u001b[0m\n",
            "\u001b[1m------------------------------------------------------------------------\u001b[0m\n"
          ],
          "name": "stdout"
        }
      ]
    },
    {
      "cell_type": "markdown",
      "metadata": {
        "id": "KFr4mP6h7s55"
      },
      "source": [
        "#### Confusion Matrix for Above Model"
      ]
    },
    {
      "cell_type": "code",
      "metadata": {
        "colab": {
          "base_uri": "https://localhost:8080/",
          "height": 1000
        },
        "id": "IX_qEg8wiat1",
        "outputId": "18f14faf-5bfc-4dae-c689-d02baf0d6cf7"
      },
      "source": [
        "# 3. Confusion Matrix\r\n",
        "\r\n",
        "# defining the plot function\r\n",
        "\r\n",
        "def plot_confusion_matrix(cm, classes, title, normalize = False, cmap = plt.cm.Blues):\r\n",
        "    title = 'Confusion Matrix of {}'.format(title)\r\n",
        "    if normalize:\r\n",
        "        cm = cm.astype(float) / cm.sum(axis=1)[:, np.newaxis]\r\n",
        "\r\n",
        "    plt.imshow(cm, interpolation = 'nearest', cmap = cmap)\r\n",
        "    plt.title(title)\r\n",
        "    plt.colorbar()\r\n",
        "    tick_marks = np.arange(len(classes))\r\n",
        "    plt.xticks(tick_marks, classes, rotation = 45)\r\n",
        "    plt.yticks(tick_marks, classes)\r\n",
        "\r\n",
        "    fmt = '.2f' if normalize else 'd'\r\n",
        "    thresh = cm.max() / 2.\r\n",
        "    for i, j in itertools.product(range(cm.shape[0]), range(cm.shape[1])):\r\n",
        "        plt.text(j, i, format(cm[i, j], fmt),\r\n",
        "                 horizontalalignment = 'center',\r\n",
        "                 color = 'white' if cm[i, j] > thresh else 'black')\r\n",
        "\r\n",
        "    plt.tight_layout()\r\n",
        "    plt.ylabel('True label')\r\n",
        "    plt.xlabel('Predicted label')\r\n",
        "\r\n",
        "# Compute confusion matrix for the models\r\n",
        "\r\n",
        "tree_matrix = confusion_matrix(y_test, tree_yhat, labels = [0, 1]) # Decision Tree\r\n",
        "knn_matrix = confusion_matrix(y_test, knn_yhat, labels = [0, 1]) # K-Nearest Neighbors\r\n",
        "lr_matrix = confusion_matrix(y_test, lr_yhat, labels = [0, 1]) # Logistic Regression\r\n",
        "rf_matrix = confusion_matrix(y_test, rf_yhat, labels = [0, 1]) # Random Forest Tree\r\n",
        "xgb_matrix = confusion_matrix(y_test, xgb_yhat, labels = [0, 1]) # XGBoost\r\n",
        "\r\n",
        "# Plot the confusion matrix\r\n",
        "\r\n",
        "plt.rcParams['figure.figsize'] = (6, 6)\r\n",
        "\r\n",
        "# 1. Decision tree\r\n",
        "\r\n",
        "tree_cm_plot = plot_confusion_matrix(tree_matrix, \r\n",
        "                                classes = ['Non-Fraud(0)','Fraud(1)'], \r\n",
        "                                normalize = False, title = 'Decision Tree')\r\n",
        "plt.savefig('tree_cm_plot.png')\r\n",
        "plt.show()\r\n",
        "\r\n",
        "\r\n",
        "# 2. K-Nearest Neighbors\r\n",
        "\r\n",
        "knn_cm_plot = plot_confusion_matrix(knn_matrix, \r\n",
        "                                classes = ['Non-Fraud(0)','Fraud(1)'], \r\n",
        "                                normalize = False, title = 'KNN')\r\n",
        "plt.savefig('knn_cm_plot.png')\r\n",
        "plt.show()\r\n",
        "\r\n",
        "# 3. Logistic regression\r\n",
        "\r\n",
        "lr_cm_plot = plot_confusion_matrix(lr_matrix, \r\n",
        "                                classes = ['Non-Fraud(0)','Fraud(1)'], \r\n",
        "                                normalize = False, title = 'Logistic Regression')\r\n",
        "plt.savefig('lr_cm_plot.png')\r\n",
        "plt.show()\r\n",
        "\r\n",
        "\r\n",
        "# 4. Random forest tree\r\n",
        "\r\n",
        "rf_cm_plot = plot_confusion_matrix(rf_matrix, \r\n",
        "                                classes = ['Non-Fraud(0)','Fraud(1)'], \r\n",
        "                                normalize = False, title = 'Random Forest Tree')\r\n",
        "plt.savefig('rf_cm_plot.png')\r\n",
        "plt.show()\r\n",
        "\r\n",
        "# 5. XGBoost\r\n",
        "\r\n",
        "xgb_cm_plot = plot_confusion_matrix(xgb_matrix, \r\n",
        "                                classes = ['Non-Fraud(0)','Fraud(1)'], \r\n",
        "                                normalize = False, title = 'XGBoost')\r\n",
        "plt.savefig('xgb_cm_plot.png')\r\n",
        "plt.show()\r\n",
        "\r\n",
        "\r\n"
      ],
      "execution_count": null,
      "outputs": [
        {
          "output_type": "display_data",
          "data": {
            "image/png": "[encoded data removed]",
            "text/plain": [
              "<Figure size 432x432 with 2 Axes>"
            ]
          },
          "metadata": {
            "tags": [],
            "needs_background": "light"
          }
        },
        {
          "output_type": "display_data",
          "data": {
            "image/png": "[encoded data removed]",
            "text/plain": [
              "<Figure size 432x432 with 2 Axes>"
            ]
          },
          "metadata": {
            "tags": [],
            "needs_background": "light"
          }
        },
        {
          "output_type": "display_data",
          "data": {
            "image/png": "[encoded data removed]",
            "text/plain": [
              "<Figure size 432x432 with 2 Axes>"
            ]
          },
          "metadata": {
            "tags": [],
            "needs_background": "light"
          }
        },
        {
          "output_type": "display_data",
          "data": {
            "image/png": "[encoded data removed]",
            "text/plain": [
              "<Figure size 432x432 with 2 Axes>"
            ]
          },
          "metadata": {
            "tags": [],
            "needs_background": "light"
          }
        },
        {
          "output_type": "display_data",
          "data": {
            "image/png": "[encoded data removed]",
            "text/plain": [
              "<Figure size 432x432 with 2 Axes>"
            ]
          },
          "metadata": {
            "tags": [],
            "needs_background": "light"
          }
        }
      ]
    },
    {
      "cell_type": "code",
      "metadata": {
        "id": "0um649-Vs6UT"
      },
      "source": [
        ""
      ],
      "execution_count": null,
      "outputs": []
    }
  ]
}